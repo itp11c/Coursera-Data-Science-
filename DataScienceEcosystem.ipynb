{
 "cells": [
  {
   "cell_type": "markdown",
   "id": "bd8b78ff",
   "metadata": {},
   "source": [
    "# Data Science Tools and Ecosystem"
   ]
  },
  {
   "cell_type": "markdown",
   "id": "3ba87933",
   "metadata": {},
   "source": [
    "In this notebook,Data Science Tools and Ecosystem are summarized. "
   ]
  },
  {
   "cell_type": "markdown",
   "id": "76ea25b1",
   "metadata": {},
   "source": [
    "Some of the popular languages that Data Scientists use are:\n",
    "1.Python\n",
    "2.R\n",
    "3.SQL"
   ]
  },
  {
   "cell_type": "markdown",
   "id": "0498886d",
   "metadata": {},
   "source": [
    "Some of the commonly used libraries used by Data scientists include:\n",
    "1.Numpy\n",
    "2.Pandas\n",
    "3.Seaborn\n",
    "4.Matplotlib"
   ]
  },
  {
   "cell_type": "markdown",
   "id": "b3489877",
   "metadata": {},
   "source": [
    "Data Science Tools:\n",
    "1.Python\n",
    "2.TensorFlow\n",
    "3.Scikit-learn\n"
   ]
  },
  {
   "cell_type": "markdown",
   "id": "0795e283",
   "metadata": {},
   "source": [
    "### Below are a few examples of evaluating arithmetic expressions in python:\n",
    " - add +\n",
    " - sub -\n",
    " - mul *\n",
    " - div /\n",
    " - exp **"
   ]
  },
  {
   "cell_type": "code",
   "execution_count": 5,
   "id": "8ae40d43",
   "metadata": {},
   "outputs": [
    {
     "name": "stdout",
     "output_type": "stream",
     "text": [
      "17\n"
     ]
    }
   ],
   "source": [
    "#This a simple arithmetic expression to multiply then add integrers\n",
    "print((3*4)+5)"
   ]
  },
  {
   "cell_type": "code",
   "execution_count": 6,
   "id": "ca8935d3",
   "metadata": {},
   "outputs": [
    {
     "name": "stdout",
     "output_type": "stream",
     "text": [
      "3.3333333333333335\n"
     ]
    }
   ],
   "source": [
    "#This will convert 200 minutes to hours by dividing by 60\n",
    "minutes=200\n",
    "print(minutes/60)"
   ]
  },
  {
   "cell_type": "markdown",
   "id": "6346f9c5",
   "metadata": {},
   "source": [
    "# Below are the introduction cell are created in Exercise 3,"
   ]
  },
  {
   "cell_type": "markdown",
   "id": "f2429dcb",
   "metadata": {},
   "source": [
    "## Objectives:\n",
    "\n",
    "\n",
    " * List popular launguages for Data Science:\n",
    "       - Python\n",
    "       - R\n",
    "       - SQL\n",
    "\n",
    " * Some open source Libraries for Data Science:\n",
    "       - Numpy\n",
    "       - Pandas\n",
    "       - Seaborn"
   ]
  },
  {
   "cell_type": "markdown",
   "id": "f0295dfd",
   "metadata": {},
   "source": [
    "## Author- Raghvendra pal"
   ]
  },
  {
   "cell_type": "code",
   "execution_count": null,
   "id": "a3e58678",
   "metadata": {},
   "outputs": [],
   "source": []
  },
  {
   "cell_type": "code",
   "execution_count": null,
   "id": "0cfc21b7",
   "metadata": {},
   "outputs": [],
   "source": []
  },
  {
   "cell_type": "code",
   "execution_count": null,
   "id": "a79732d9",
   "metadata": {},
   "outputs": [],
   "source": []
  },
  {
   "cell_type": "code",
   "execution_count": null,
   "id": "7438113a",
   "metadata": {},
   "outputs": [],
   "source": []
  },
  {
   "cell_type": "code",
   "execution_count": null,
   "id": "d3ba5e87",
   "metadata": {},
   "outputs": [],
   "source": []
  },
  {
   "cell_type": "code",
   "execution_count": null,
   "id": "f7633119",
   "metadata": {},
   "outputs": [],
   "source": []
  },
  {
   "cell_type": "code",
   "execution_count": null,
   "id": "a745b916",
   "metadata": {},
   "outputs": [],
   "source": []
  },
  {
   "cell_type": "code",
   "execution_count": null,
   "id": "3415ed73",
   "metadata": {},
   "outputs": [],
   "source": []
  },
  {
   "cell_type": "code",
   "execution_count": null,
   "id": "6ad92cec",
   "metadata": {},
   "outputs": [],
   "source": []
  },
  {
   "cell_type": "code",
   "execution_count": null,
   "id": "faa5862b",
   "metadata": {},
   "outputs": [],
   "source": []
  },
  {
   "cell_type": "code",
   "execution_count": null,
   "id": "2932d80b",
   "metadata": {},
   "outputs": [],
   "source": []
  },
  {
   "cell_type": "code",
   "execution_count": null,
   "id": "d6f24cad",
   "metadata": {},
   "outputs": [],
   "source": []
  },
  {
   "cell_type": "code",
   "execution_count": null,
   "id": "39f783d9",
   "metadata": {},
   "outputs": [],
   "source": []
  },
  {
   "cell_type": "code",
   "execution_count": null,
   "id": "8c733382",
   "metadata": {},
   "outputs": [],
   "source": []
  },
  {
   "cell_type": "code",
   "execution_count": null,
   "id": "dcac6cd4",
   "metadata": {},
   "outputs": [],
   "source": []
  }
 ],
 "metadata": {
  "kernelspec": {
   "display_name": "Python 3 (ipykernel)",
   "language": "python",
   "name": "python3"
  },
  "language_info": {
   "codemirror_mode": {
    "name": "ipython",
    "version": 3
   },
   "file_extension": ".py",
   "mimetype": "text/x-python",
   "name": "python",
   "nbconvert_exporter": "python",
   "pygments_lexer": "ipython3",
   "version": "3.9.12"
  }
 },
 "nbformat": 4,
 "nbformat_minor": 5
}
